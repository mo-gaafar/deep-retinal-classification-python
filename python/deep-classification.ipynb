{
 "cells": [
  {
   "attachments": {},
   "cell_type": "markdown",
   "metadata": {},
   "source": [
    "# Automatic Classification of Bright Retinal Lesions via Deep Network Features\n",
    "**Original Paper Authors**\n",
    "Ibrahim Sadeka,b,*, Mohamed Elawadyc,e, Abd El Rahman Shabayekd,e\n",
    "\n",
    "### A reimplementation of the paper using python instead of matlab\n",
    "Under supervision of Dr. Ibrahim Sadek, ibrahim.sadek@ipal.cnrs.fr\n",
    "\n",
    "**Reimplementation Authors**\n",
    "| **Name** | **Email** |\n",
    "| --- | --- |\n",
    "|[Mohamed Gaafer](github.com/mo-gaafar)| mohamed_gaafer@ieee.org|\n",
    "|[Zeyad Mansour](github.com/ZeyadAlo) | zeyadmansour2@gmail.com |\n",
    "|[Abdullah Saeed](github.com/abdullahsaeed10) ||\n",
    "|[Maryam Moataz](github.com/maryamoataz) ||\n"
   ]
  },
  {
   "attachments": {},
   "cell_type": "markdown",
   "metadata": {},
   "source": [
    "# Code Structure\n",
    "These are the main steps of the code:\n",
    "1. Image Loading\n",
    "2. Network Configuration\n",
    "3. Data Preprocessing\n",
    "4. CNN Feature Extraction using GoogleNet\n",
    "5. Load pretrained SVM Model and Predict based on CNN Features\n",
    "\n",
    "\n",
    "## 1. Image Loading"
   ]
  },
  {
   "cell_type": "code",
   "execution_count": 1,
   "metadata": {},
   "outputs": [
    {
     "name": "stdout",
     "output_type": "stream",
     "text": [
      "['drusen', 'normal', 'exudates']\n"
     ]
    },
    {
     "data": {
      "application/vnd.jupyter.widget-view+json": {
       "model_id": "989140e91cdb439eb1f950dd3feea903",
       "version_major": 2,
       "version_minor": 0
      },
      "text/plain": [
       "Dropdown(options=('Option 1', 'Option 2', 'Option 3'), value='Option 1')"
      ]
     },
     "metadata": {},
     "output_type": "display_data"
    },
    {
     "name": "stdout",
     "output_type": "stream",
     "text": [
      "Selected option: Option 2\n",
      "Selected option: Option 3\n",
      "Selected option: Option 2\n",
      "Selected option: Option 3\n"
     ]
    }
   ],
   "source": [
    "#List images and allow user to select one from a gui list embedded in python notebook\n",
    "import os\n",
    "input_folder = '../input/'\n",
    "print(os.listdir(input_folder))\n",
    "\n",
    "# Any results you write to the current directory are saved as output.\n",
    "import ipywidgets as widgets\n",
    "from IPython.display import display\n",
    "\n",
    "# Define a function to handle dropdown selection\n",
    "def handle_dropdown_change(change):\n",
    "    selected_option = dropdown.value\n",
    "    print(f\"Selected option: {selected_option}\")\n",
    "\n",
    "# Define the dropdown widget\n",
    "dropdown_options = ['Option 1', 'Option 2', 'Option 3']\n",
    "dropdown = widgets.Dropdown(options=dropdown_options)\n",
    "\n",
    "# Attach the handle_dropdown_change function to the dropdown's observe event\n",
    "dropdown.observe(handle_dropdown_change, names='value')\n",
    "\n",
    "# Display the dropdown widget\n",
    "display(dropdown)\n"
   ]
  },
  {
   "attachments": {},
   "cell_type": "markdown",
   "metadata": {},
   "source": [
    "## 2. Network Configuration"
   ]
  },
  {
   "cell_type": "code",
   "execution_count": null,
   "metadata": {},
   "outputs": [],
   "source": []
  },
  {
   "attachments": {},
   "cell_type": "markdown",
   "metadata": {},
   "source": [
    "## 3. Data Preprocessing"
   ]
  },
  {
   "cell_type": "code",
   "execution_count": null,
   "metadata": {},
   "outputs": [],
   "source": []
  },
  {
   "attachments": {},
   "cell_type": "markdown",
   "metadata": {},
   "source": [
    "## 4. CNN Feature Extraction using GoogleNet"
   ]
  },
  {
   "cell_type": "code",
   "execution_count": null,
   "metadata": {},
   "outputs": [],
   "source": []
  },
  {
   "attachments": {},
   "cell_type": "markdown",
   "metadata": {},
   "source": [
    "## 5. SVM Prediction using CNN Features"
   ]
  },
  {
   "cell_type": "code",
   "execution_count": null,
   "metadata": {},
   "outputs": [],
   "source": []
  }
 ],
 "metadata": {
  "kernelspec": {
   "display_name": ".venv",
   "language": "python",
   "name": "python3"
  },
  "language_info": {
   "codemirror_mode": {
    "name": "ipython",
    "version": 3
   },
   "file_extension": ".py",
   "mimetype": "text/x-python",
   "name": "python",
   "nbconvert_exporter": "python",
   "pygments_lexer": "ipython3",
   "version": "3.10.9"
  },
  "orig_nbformat": 4
 },
 "nbformat": 4,
 "nbformat_minor": 2
}
