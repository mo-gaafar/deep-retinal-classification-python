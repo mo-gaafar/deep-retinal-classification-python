{
 "cells": [
  {
   "attachments": {},
   "cell_type": "markdown",
   "metadata": {},
   "source": [
    "# Automatic Classification of Bright Retinal Lesions via Deep Network Features\n",
    "**Original Paper Authors**\n",
    "Ibrahim Sadeka,b,*, Mohamed Elawadyc,e, Abd El Rahman Shabayekd,e\n",
    "\n",
    "### A reimplementation of the paper using python instead of matlab\n",
    "Under supervision of Dr. Ibrahim Sadek, ibrahim.sadek@ipal.cnrs.fr\n",
    "\n",
    "**Reimplementation Authors**\n",
    "| **Name** | **Email** |\n",
    "| --- | --- |\n",
    "|[Mohamed Gaafer](github.com/mo-gaafar)| mohamed_gaafer@ieee.org|\n",
    "|[Zeyad Mansour](github.com/ZeyadAlo) | zeyadmansour2@gmail.com |\n",
    "|[Abdullah Saeed](github.com/abdullahsaeed10) ||\n",
    "|[Maryam Moataz](github.com/maryamoataz) | maryam.fathy01@eng-st.cu.edu.eg|\n"
   ]
  },
  {
   "cell_type": "code",
   "execution_count": 23,
   "metadata": {},
   "outputs": [],
   "source": [
    "import numpy as np\n",
    "import pandas as pd\n",
    "import matplotlib.pyplot as plt\n",
    "import tensorflow as tf\n",
    "from tensorflow import keras\n",
    "from tensorflow.keras.models import Model\n",
    "from PIL import Image\n",
    "from sklearn.svm import SVC\n",
    "from sklearn.model_selection import train_test_split\n",
    "from sklearn.metrics import confusion_matrix, recall_score, f1_score, accuracy_score, roc_auc_score\n",
    "from sklearn.metrics import ConfusionMatrixDisplay\n",
    "from sklearn.preprocessing import normalize\n"
   ]
  },
  {
   "attachments": {},
   "cell_type": "markdown",
   "metadata": {},
   "source": [
    "# Code Structure\n",
    "These are the main steps of the code:\n",
    "1. Image Loading\n",
    "2. Network Configuration\n",
    "3. Data Preprocessing\n",
    "4. CNN Feature Extraction using GoogleNet\n",
    "5. Load pretrained SVM Model and Predict based on CNN Features\n",
    "\n",
    "\n",
    "## 1. Image Loading"
   ]
  },
  {
   "cell_type": "code",
   "execution_count": 2,
   "metadata": {},
   "outputs": [
    {
     "data": {
      "application/vnd.jupyter.widget-view+json": {
       "model_id": "c24838b61d4244f1999393a0003d4538",
       "version_major": 2,
       "version_minor": 0
      },
      "text/plain": [
       "Text(value='../input', description='Directory:')"
      ]
     },
     "metadata": {},
     "output_type": "display_data"
    },
    {
     "data": {
      "application/vnd.jupyter.widget-view+json": {
       "model_id": "b311a9422c9c461ba6d2aecdcf2510c8",
       "version_major": 2,
       "version_minor": 0
      },
      "text/plain": [
       "Dropdown(description='Files:', options=(), value=None)"
      ]
     },
     "metadata": {},
     "output_type": "display_data"
    }
   ],
   "source": [
    "import ipywidgets as widgets\n",
    "import os\n",
    "\n",
    "directory = \"\"\n",
    "\n",
    "# Function to display image files in a directory\n",
    "def display_files(directory):\n",
    "    file_list = []\n",
    "    for root, dirs, files in os.walk(directory):\n",
    "        for file in files:\n",
    "            if file.lower().endswith(('.png', '.jpg', '.jpeg', '.gif')): \n",
    "                file_list.append(os.path.join(root, file))\n",
    "    file_widget.options = file_list\n",
    "\n",
    "# Define the directory widget\n",
    "directory_widget = widgets.Text(value='../input', description='Directory:')\n",
    "display(directory_widget)\n",
    "\n",
    "# Define the file selection widget\n",
    "file_widget = widgets.Dropdown(options=[], description='Files:')\n",
    "display(file_widget)\n",
    "\n",
    "# Define the callback function for directory changes\n",
    "def directory_changed(change):\n",
    "    directory = change['new']\n",
    "    display_files(directory)\n",
    "    print(directory)\n",
    "\n",
    "# Link the directory widget to the callback function\n",
    "directory_widget.observe(directory_changed, names='value')\n",
    "\n",
    "# Initialize the file list\n",
    "display_files(directory_widget.value)\n"
   ]
  },
  {
   "cell_type": "code",
   "execution_count": 4,
   "metadata": {},
   "outputs": [
    {
     "name": "stdout",
     "output_type": "stream",
     "text": [
      "directory\n",
      "../input\\Drusen\\AWM_2007-07-02_OS_88341.jpg\n"
     ]
    }
   ],
   "source": [
    "print(\"directory\")\n",
    "print(file_widget.value)\n",
    "\n",
    "im = Image.open(file_widget.value)"
   ]
  },
  {
   "attachments": {},
   "cell_type": "markdown",
   "metadata": {},
   "source": [
    "## 2. Network Configuration"
   ]
  },
  {
   "cell_type": "code",
   "execution_count": 26,
   "metadata": {},
   "outputs": [
    {
     "data": {
      "application/vnd.jupyter.widget-view+json": {
       "model_id": "77e50e7a28a440d1ac35ae04ec592d52",
       "version_major": 2,
       "version_minor": 0
      },
      "text/plain": [
       "Dropdown(description='Layers:', options=('input_3', 'block1_conv1', 'block1_conv2', 'block1_pool', 'block2_con…"
      ]
     },
     "metadata": {},
     "output_type": "display_data"
    }
   ],
   "source": [
    "#googlenet\n",
    "# model_googlenet = keras.applications.inception_v3.InceptionV3(weights='imagenet')\n",
    "model_googlenet = keras.applications.VGG16(weights='imagenet'\n",
    "                                          , include_top=False\n",
    "                                          , input_shape=(224, 224, 3)\n",
    "                                          , classes=1000)\n",
    "#select and display the layer from ipywidget dropdown\n",
    "layers_list = [layer.name for layer in model_googlenet.layers]\n",
    "layer_widget = widgets.Dropdown(options=layers_list, description='Layers:')\n",
    "display(layer_widget)\n"
   ]
  },
  {
   "cell_type": "code",
   "execution_count": 38,
   "metadata": {},
   "outputs": [],
   "source": [
    "model = Model(inputs=model_googlenet.input, outputs=model_googlenet.get_layer(layer_widget.value).output)\n",
    "# model_googlenet.summary()\n"
   ]
  },
  {
   "attachments": {},
   "cell_type": "markdown",
   "metadata": {},
   "source": [
    "## 3. Data Preprocessing"
   ]
  },
  {
   "cell_type": "code",
   "execution_count": 39,
   "metadata": {},
   "outputs": [],
   "source": [
    "# Data Pre-processing\n",
    "from tensorflow.keras.preprocessing import image\n",
    "from tensorflow.keras.applications.vgg16 import preprocess_input, decode_predictions\n",
    "import numpy as np\n",
    "\n",
    "img = image.load_img(file_widget.value, target_size=(224, 224))\n",
    "x = image.img_to_array(img)\n",
    "x = np.expand_dims(x, axis=0)\n",
    "x = preprocess_input(x)\n",
    "\n",
    "# save the feature map\n"
   ]
  },
  {
   "attachments": {},
   "cell_type": "markdown",
   "metadata": {},
   "source": [
    "## 4. CNN Feature Extraction using GoogleNet"
   ]
  },
  {
   "cell_type": "code",
   "execution_count": 40,
   "metadata": {},
   "outputs": [
    {
     "name": "stdout",
     "output_type": "stream",
     "text": [
      "Found 120 images belonging to 3 classes.\n",
      "120/120 [==============================] - 15s 127ms/step\n"
     ]
    },
    {
     "data": {
      "text/plain": [
       "<matplotlib.image.AxesImage at 0x246f9b10220>"
      ]
     },
     "execution_count": 40,
     "metadata": {},
     "output_type": "execute_result"
    },
    {
     "data": {
      "image/png": "[encoded data removed]",
      "text/plain": [
       "<Figure size 640x480 with 1 Axes>"
      ]
     },
     "metadata": {},
     "output_type": "display_data"
    }
   ],
   "source": [
    "# CNN Feature Extraction using GoogleLeNet Model\n",
    "data_generator = tf.keras.preprocessing.image.ImageDataGenerator(preprocessing_function=preprocess_input)\n",
    "image_data = data_generator.flow_from_directory(directory='../input', target_size=(224, 224), batch_size=1, shuffle=False)\n",
    "\n",
    "\n",
    "labels = image_data.classes\n",
    "features = model.predict(image_data)\n",
    "plt.imshow(features[0,:,:,0])\n"
   ]
  },
  {
   "cell_type": "code",
   "execution_count": 41,
   "metadata": {},
   "outputs": [
    {
     "name": "stdout",
     "output_type": "stream",
     "text": [
      "[0 0 0 0 0 0 0 0 0 0 0 0 0 0 0 0 0 0 0 0 0 0 0 0 0 0 0 0 0 0 0 0 0 0 0 0 0\n",
      " 0 0 0 1 1 1 1 1 1 1 1 1 1 1 1 1 1 1 1 1 1 1 1 1 1 1 1 1 1 1 1 1 1 1 1 1 1\n",
      " 1 1 1 1 1 1 2 2 2 2 2 2 2 2 2 2 2 2 2 2 2 2 2 2 2 2 2 2 2 2 2 2 2 2 2 2 2\n",
      " 2 2 2 2 2 2 2 2 2]\n"
     ]
    }
   ],
   "source": [
    "print(image_data.classes)"
   ]
  },
  {
   "attachments": {},
   "cell_type": "markdown",
   "metadata": {},
   "source": [
    "## 5. SVM Prediction using CNN Features"
   ]
  },
  {
   "cell_type": "code",
   "execution_count": 47,
   "metadata": {},
   "outputs": [
    {
     "name": "stdout",
     "output_type": "stream",
     "text": [
      "[1, 1, 0, 1, 0, 2, 1, 0, 1, 1, 0, 1, 0, 0, 2, 2, 2, 0, 2, 1, 2, 1, 0, 1]\n",
      "[1 1 0 1 0 1 1 0 1 2 0 1 0 0 2 2 2 0 2 2 1 1 0 1]\n",
      "[[8 0 0]\n",
      " [0 8 2]\n",
      " [0 2 4]]\n"
     ]
    }
   ],
   "source": [
    "features_train, features_test, labels_train, labels_test = train_test_split(features, labels, test_size=0.2, random_state=42)\n",
    "\n",
    "# Flatten the features into one-dimensional vectors\n",
    "features_train = features_train.reshape(features_train.shape[0], -1)\n",
    "features_test = features_test.reshape(features_test.shape[0], -1)\n",
    "\n",
    "# Train an SVM classifier on the flattened features\n",
    "clf = SVC(kernel='rbf', C=1.0, probability=True)\n",
    "clf.fit(features_train, labels_train)\n",
    "\n",
    "\n",
    "class_names = ['Drusen', 'Exudate', 'Normal', ...] \n",
    "predicted_class_name=[]\n",
    "# Classify the image using the SVM classifier\n",
    "for i in range(0, len(features_test)):\n",
    "    predicted_label = clf.predict(features_test)[i]\n",
    "    predicted_class_name.append(predicted_label)\n",
    "\n",
    "# Output the classification result   \n",
    "print(predicted_class_name)   \n",
    "print(labels_test)\n",
    "\n",
    "cm = confusion_matrix(labels_test, predicted_class_name)\n",
    "print(cm)\n",
    "\n"
   ]
  },
  {
   "attachments": {},
   "cell_type": "markdown",
   "metadata": {},
   "source": [
    "## 6. Evaluation\n",
    "Criteria used for evaluation:\n",
    "- Sensitivity, specificity, accuracy, F-score, the area\n",
    "under the curve\n",
    "- Robustness\n",
    "- Methodology\n",
    "- Computational time"
   ]
  },
  {
   "cell_type": "code",
   "execution_count": 49,
   "metadata": {},
   "outputs": [
    {
     "name": "stdout",
     "output_type": "stream",
     "text": [
      "Sensitivity: 0.82\n",
      "Specificity for class Drusen: 1.00\n",
      "Specificity for class Exudate: 0.86\n",
      "Specificity for class Normal: 0.80\n",
      "Accuracy: 0.83\n",
      "F-score: 0.83\n",
      "AUC: 1.00\n"
     ]
    },
    {
     "data": {
      "image/png": "[encoded data removed]",
      "text/plain": [
       "<Figure size 640x480 with 2 Axes>"
      ]
     },
     "metadata": {},
     "output_type": "display_data"
    }
   ],
   "source": [
    "disp = ConfusionMatrixDisplay(confusion_matrix=cm, display_labels=clf.classes_)\n",
    "disp.plot()\n",
    "\n",
    "# Calculate the sensitivity\n",
    "sensitivity = recall_score(labels_test, predicted_class_name, average='macro')\n",
    "\n",
    "# Extract the true negatives (TN) and false positives (FP) for each class\n",
    "tn_0 = np.sum(cm[1:, 1:])  # TN for class 0\n",
    "fp_0 = np.sum(cm[1:, 0])   # FP for class 0\n",
    "tn_1 = np.sum(np.vstack((cm[0, 0], cm[2, 2])))  # TN for class 1\n",
    "fp_1 = np.sum(np.hstack((cm[0, 1:], cm[2, :2])))  # FP for class 1\n",
    "tn_2 = np.sum(cm[:2, :2])  # TN for class 2\n",
    "fp_2 = np.sum(np.hstack((cm[:2, 2], cm[2, 0:2])))  # FP for class 2\n",
    "\n",
    "# Calculate the specificity for each class\n",
    "spec_0 = tn_0 / (tn_0 + fp_0)\n",
    "spec_1 = tn_1 / (tn_1 + fp_1)\n",
    "spec_2 = tn_2 / (tn_2 + fp_2)\n",
    "\n",
    "# Calculate the accuracy score\n",
    "accuracy = accuracy_score(labels_test, predicted_class_name)\n",
    "\n",
    "# Calculate the F-score\n",
    "f_score = f1_score(labels_test, predicted_class_name, average='weighted')\n",
    "\n",
    "# Calculate the AUC score\n",
    "y_test = np.reshape(labels_test, (-1, 1))\n",
    "y_pred = np.reshape(predicted_class_name, (-1, 1))\n",
    "y_pred = normalize(y_pred, axis=1, norm='l1')\n",
    "y_test = normalize(y_test, axis=1, norm='l1')\n",
    "\n",
    "auc_score = roc_auc_score(y_test, y_pred, multi_class='ovr')\n",
    "\n",
    "print(\"Sensitivity: {:.2f}\".format(sensitivity))\n",
    "\n",
    "print(\"Specificity for class Drusen: {:.2f}\".format(spec_0))\n",
    "print(\"Specificity for class Exudate: {:.2f}\".format(spec_1))\n",
    "print(\"Specificity for class Normal: {:.2f}\".format(spec_2))\n",
    "\n",
    "print(\"Accuracy: {:.2f}\".format(accuracy))\n",
    "\n",
    "print(\"F-score: {:.2f}\".format(f_score))\n",
    "\n",
    "print(\"AUC: {:.2f}\".format(auc_score))\n",
    "\n",
    "# show the confusion matrix plot\n",
    "plt.show()"
   ]
  }
 ],
 "metadata": {
  "kernelspec": {
   "display_name": ".venv",
   "language": "python",
   "name": "python3"
  },
  "language_info": {
   "codemirror_mode": {
    "name": "ipython",
    "version": 3
   },
   "file_extension": ".py",
   "mimetype": "text/x-python",
   "name": "python",
   "nbconvert_exporter": "python",
   "pygments_lexer": "ipython3",
   "version": "3.9.13"
  },
  "orig_nbformat": 4
 },
 "nbformat": 4,
 "nbformat_minor": 2
}
